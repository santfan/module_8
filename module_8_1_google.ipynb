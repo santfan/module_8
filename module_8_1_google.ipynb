{
  "nbformat": 4,
  "nbformat_minor": 0,
  "metadata": {
    "colab": {
      "provenance": [],
      "authorship_tag": "ABX9TyPsfTnHaevQUuhqiP470O8R",
      "include_colab_link": true
    },
    "kernelspec": {
      "name": "python3",
      "display_name": "Python 3"
    },
    "language_info": {
      "name": "python"
    }
  },
  "cells": [
    {
      "cell_type": "markdown",
      "metadata": {
        "id": "view-in-github",
        "colab_type": "text"
      },
      "source": [
        "<a href=\"https://colab.research.google.com/github/santfan/module_8/blob/main/module_8_1_google.ipynb\" target=\"_parent\"><img src=\"https://colab.research.google.com/assets/colab-badge.svg\" alt=\"Open In Colab\"/></a>"
      ]
    },
    {
      "cell_type": "code",
      "execution_count": 1,
      "metadata": {
        "id": "pU0HXRBMBkI1"
      },
      "outputs": [],
      "source": [
        "# Создадим функцию с обработчиком ошибки типа Try-Except\n",
        "def add_everything_up(a, b):\n",
        "  try:\n",
        "    return a + b\n",
        "  except TypeError:\n",
        "    return str(a) + str(b)"
      ]
    },
    {
      "cell_type": "code",
      "source": [
        "# Как отреагирует функция при подаче числа и строки\n",
        "print(add_everything_up(1234, 'string'))"
      ],
      "metadata": {
        "colab": {
          "base_uri": "https://localhost:8080/"
        },
        "id": "nrnKl8mjC6n9",
        "outputId": "49b3d4fb-8b4c-4c08-a488-43715dd243f7"
      },
      "execution_count": 2,
      "outputs": [
        {
          "output_type": "stream",
          "name": "stdout",
          "text": [
            "1234string\n"
          ]
        }
      ]
    },
    {
      "cell_type": "code",
      "source": [
        "# Как отреагирует функция при подаче двух чисел типа int\n",
        "print(add_everything_up(1, 7))"
      ],
      "metadata": {
        "colab": {
          "base_uri": "https://localhost:8080/"
        },
        "id": "EuempMozDgBb",
        "outputId": "e5778f61-5c32-41f3-f0ae-836028378a90"
      },
      "execution_count": 3,
      "outputs": [
        {
          "output_type": "stream",
          "name": "stdout",
          "text": [
            "8\n"
          ]
        }
      ]
    },
    {
      "cell_type": "code",
      "source": [
        "# Как отреагирует функция при подаче строки и числа\n",
        "print(add_everything_up('duple', 17))"
      ],
      "metadata": {
        "colab": {
          "base_uri": "https://localhost:8080/"
        },
        "id": "R5upFRoTG8XD",
        "outputId": "0507fab2-3f8e-465b-8eb6-72f7bd7b8725"
      },
      "execution_count": 4,
      "outputs": [
        {
          "output_type": "stream",
          "name": "stdout",
          "text": [
            "duple17\n"
          ]
        }
      ]
    },
    {
      "cell_type": "code",
      "source": [
        "# Как отреагирует функция при подаче двух строк\n",
        "print(add_everything_up('Привет ', 'незнакомец'))"
      ],
      "metadata": {
        "colab": {
          "base_uri": "https://localhost:8080/"
        },
        "id": "4CgEa9hHHI6v",
        "outputId": "bfa0fcac-a653-42ce-a530-b85b946562f4"
      },
      "execution_count": 5,
      "outputs": [
        {
          "output_type": "stream",
          "name": "stdout",
          "text": [
            "Привет незнакомец\n"
          ]
        }
      ]
    },
    {
      "cell_type": "code",
      "source": [
        "# Как отреагирует функция при подаче двух чисел типа float\n",
        "print(add_everything_up(12.3567, 344.5))"
      ],
      "metadata": {
        "colab": {
          "base_uri": "https://localhost:8080/"
        },
        "id": "rb1Rz5dGHZaa",
        "outputId": "464d3963-1209-4e1f-fc77-1d6393ade6ee"
      },
      "execution_count": 6,
      "outputs": [
        {
          "output_type": "stream",
          "name": "stdout",
          "text": [
            "356.8567\n"
          ]
        }
      ]
    },
    {
      "cell_type": "code",
      "source": [],
      "metadata": {
        "id": "rYMuvl6RIHII"
      },
      "execution_count": null,
      "outputs": []
    }
  ]
}