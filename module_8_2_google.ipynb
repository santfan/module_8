{
  "nbformat": 4,
  "nbformat_minor": 0,
  "metadata": {
    "colab": {
      "provenance": [],
      "authorship_tag": "ABX9TyNGyl1IDsHSsP/5HnaZg3pA",
      "include_colab_link": true
    },
    "kernelspec": {
      "name": "python3",
      "display_name": "Python 3"
    },
    "language_info": {
      "name": "python"
    }
  },
  "cells": [
    {
      "cell_type": "markdown",
      "metadata": {
        "id": "view-in-github",
        "colab_type": "text"
      },
      "source": [
        "<a href=\"https://colab.research.google.com/github/santfan/module_8/blob/main/module_8_2_google.ipynb\" target=\"_parent\"><img src=\"https://colab.research.google.com/assets/colab-badge.svg\" alt=\"Open In Colab\"/></a>"
      ]
    },
    {
      "cell_type": "code",
      "execution_count": 4,
      "metadata": {
        "id": "Vb9Xu5ZCJyWC"
      },
      "outputs": [],
      "source": [
        "# Объявим функцию суммирования элементов коллекции\n",
        "def personal_summ(numbers):\n",
        "  # становим значения результата суммы и счетчик некорректных данных\n",
        "  result = 0\n",
        "  incorrect_data = 0\n",
        "  # Пробежим по значениям коллекции\n",
        "  for num in numbers:\n",
        "    # Суммируем элементы коллекции\n",
        "    try:\n",
        "      result = result + num\n",
        "    # Если некорректные данные, то увеличим счетчик\n",
        "    except TypeError:\n",
        "      print(f'Не корректный тип данных: {num}')\n",
        "      incorrect_data += 1\n",
        "\n",
        "# Вернем результат работы функции\n",
        "  return result, incorrect_data"
      ]
    },
    {
      "cell_type": "code",
      "source": [
        "# Объявим функцию подсчета среденго\n",
        "def calculate_average (numbers):\n",
        "  try:\n",
        "    # Запросим результаты работы функции суммирования\n",
        "    res_sum, incorrect_data = personal_summ(numbers)\n",
        "    # Если в коллекции элементов строковые значения то изменим длинну коллекции\n",
        "    # С учетом изменной длинны высчитаем среднее значение\n",
        "    averange = res_sum / (len(numbers) - incorrect_data)\n",
        "  # Обработка ошибки деления на ноль\n",
        "  except ZeroDivisionError:\n",
        "    return 0\n",
        "  # Обработка ошибки введения не коллекции\n",
        "  except TypeError:\n",
        "    print(f'В списке numbers не корректный тип данных')\n",
        "    return None\n",
        "  return averange"
      ],
      "metadata": {
        "id": "1d8WtkR_KpdU"
      },
      "execution_count": 5,
      "outputs": []
    },
    {
      "cell_type": "code",
      "source": [
        "# Подадим стровую коллекцию строка перебирается\n",
        "print(f'Результат 1: {calculate_average(\"1, 2, 3\")}')\n",
        "# Сработает исключение функции personal_summ\n",
        "# И исключение функции calculate_average \"Деление на ноль\""
      ],
      "metadata": {
        "colab": {
          "base_uri": "https://localhost:8080/"
        },
        "id": "Q7Vo-PSrMbxC",
        "outputId": "444c9cfa-6c62-4752-fa74-efebdf6919e0"
      },
      "execution_count": 6,
      "outputs": [
        {
          "output_type": "stream",
          "name": "stdout",
          "text": [
            "Не корректный тип данных: 1\n",
            "Не корректный тип данных: ,\n",
            "Не корректный тип данных:  \n",
            "Не корректный тип данных: 2\n",
            "Не корректный тип данных: ,\n",
            "Не корректный тип данных:  \n",
            "Не корректный тип данных: 3\n",
            "Результат 1: 0\n"
          ]
        }
      ]
    },
    {
      "cell_type": "code",
      "source": [
        " # Подадим список из переменных типа int и str строковые элементы отбросятся\n",
        " # Учитываются только 1 и 3\n",
        "print(f'Результат 2: {calculate_average([1, \"Строка\", 3, \"Ещё Строка\"])}')\n",
        "# Сработает исключение функции personal_summ"
      ],
      "metadata": {
        "colab": {
          "base_uri": "https://localhost:8080/"
        },
        "id": "X8SyLDmUNDO5",
        "outputId": "ed2794ff-7d8d-4e4e-aed6-a0d4693aca07"
      },
      "execution_count": 7,
      "outputs": [
        {
          "output_type": "stream",
          "name": "stdout",
          "text": [
            "Не корректный тип данных: Строка\n",
            "Не корректный тип данных: Ещё Строка\n",
            "Результат 2: 2.0\n"
          ]
        }
      ]
    },
    {
      "cell_type": "code",
      "source": [
        "# Передадим не коллекцию\n",
        "print(f'Результат 3: {calculate_average(567)}')\n",
        " # Сработает исключение функции calculate_average TypeError (Ошибка данных)"
      ],
      "metadata": {
        "id": "kV1T2QBWWgqx",
        "colab": {
          "base_uri": "https://localhost:8080/"
        },
        "outputId": "43e7d273-0ee8-42f0-a396-229fc0555acd"
      },
      "execution_count": 8,
      "outputs": [
        {
          "output_type": "stream",
          "name": "stdout",
          "text": [
            "В списке numbers не корректный тип данных\n",
            "Результат 3: None\n"
          ]
        }
      ]
    },
    {
      "cell_type": "code",
      "source": [
        "# Передадим корректные данные\n",
        "print(f'Результат 4: {calculate_average([42, 15, 36, 13])}')\n",
        "# Исключений нет"
      ],
      "metadata": {
        "colab": {
          "base_uri": "https://localhost:8080/"
        },
        "id": "3flD2viMa-nk",
        "outputId": "bbf5f3a3-5be1-4c48-9ecd-8d9148bccbd9"
      },
      "execution_count": 9,
      "outputs": [
        {
          "output_type": "stream",
          "name": "stdout",
          "text": [
            "Результат 4: 26.5\n"
          ]
        }
      ]
    },
    {
      "cell_type": "code",
      "source": [],
      "metadata": {
        "id": "wQQe-UaYbmgU"
      },
      "execution_count": null,
      "outputs": []
    }
  ]
}