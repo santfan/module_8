{
  "nbformat": 4,
  "nbformat_minor": 0,
  "metadata": {
    "colab": {
      "provenance": [],
      "authorship_tag": "ABX9TyNayoSwsEXs4l2TkI/VSFa4",
      "include_colab_link": true
    },
    "kernelspec": {
      "name": "python3",
      "display_name": "Python 3"
    },
    "language_info": {
      "name": "python"
    }
  },
  "cells": [
    {
      "cell_type": "markdown",
      "metadata": {
        "id": "view-in-github",
        "colab_type": "text"
      },
      "source": [
        "<a href=\"https://colab.research.google.com/github/santfan/module_8/blob/main/module_8_3_google.ipynb\" target=\"_parent\"><img src=\"https://colab.research.google.com/assets/colab-badge.svg\" alt=\"Open In Colab\"/></a>"
      ]
    },
    {
      "cell_type": "code",
      "execution_count": 1,
      "metadata": {
        "id": "ZjRQYs5U9PUf"
      },
      "outputs": [],
      "source": [
        "# Объявим класс Car\n",
        "class Car:\n",
        "  # Иницируем параметры\n",
        "  def __init__(self, model: str, vin: int, numbers: str):\n",
        "    self.model = model\n",
        "    # Инкапсулированные парметры\n",
        "    self.__vin = vin\n",
        "    self.__numbers = numbers\n",
        "    self.__is_valid_vin()\n",
        "    self.__is_valid_numbers()\n",
        "\n",
        "  # Функция проверки валидности параметра vin\n",
        "  def __is_valid_vin(self):\n",
        "    # Проверка на тип vin (должен быть int)\n",
        "    if not isinstance(self.__vin, int):\n",
        "      # Если нет сбрасываемся в класс исключений IncorrectVinNumber\n",
        "      raise IncorrectVinNumber('Некорректный тип vin номер')\n",
        "    # Проверка на диапазон значений vin\n",
        "    if not 1000000 <= self.__vin <= 9999999:\n",
        "      # Если нет сбрасываемся в класс исключений IncorrectVinNumber\n",
        "      raise IncorrectVinNumber('Неверный диапазон для vin номера')\n",
        "\n",
        "  # Функция проверки валидности параметра numbers\n",
        "  def __is_valid_numbers(self):\n",
        "    # Проверка на тип numbers (должен быть str)\n",
        "    if not isinstance(self.__numbers, str):\n",
        "      # Если нет сбрасываемся в класс исключений IncorrectCarNumbers\n",
        "      raise IncorrectCarNumbers('Некорректный тип данных для номеров')\n",
        "    # Проверка на длинну numbers\n",
        "    if not len(self.__numbers) == 6:\n",
        "      # Если нет сбрасываемся в класс исключений IncorrectCarNumbers\n",
        "      raise IncorrectCarNumbers('Неверная длина номера')"
      ]
    },
    {
      "cell_type": "code",
      "source": [
        "# Класс исключений для vin\n",
        "class IncorrectVinNumber(Exception):\n",
        "  def __init__(self, message):\n",
        "    self.message = message"
      ],
      "metadata": {
        "id": "rFZy6cIJ9jY8"
      },
      "execution_count": 2,
      "outputs": []
    },
    {
      "cell_type": "code",
      "source": [
        "# Класс исключений для numbers\n",
        "class IncorrectCarNumbers(Exception):\n",
        "  def __init__(self, message):\n",
        "    self.message = message"
      ],
      "metadata": {
        "id": "jdXo0F4I9-si"
      },
      "execution_count": 3,
      "outputs": []
    },
    {
      "cell_type": "code",
      "source": [
        "# Попробуем\n",
        "try:\n",
        "  # Создадим экземпляр класса Car\n",
        "  first = Car('Model1', 1000000, 'f123dj')\n",
        "# Если ошибка параметра vin\n",
        "except IncorrectVinNumber as exc:\n",
        "  print(exc.message)\n",
        "# Если ошибка параметра numbers\n",
        "except IncorrectCarNumbers as exc:\n",
        "  print(exc.message)\n",
        "# Если ошибок нет\n",
        "else:\n",
        "  print(f'{first.model} успешно создан')"
      ],
      "metadata": {
        "colab": {
          "base_uri": "https://localhost:8080/"
        },
        "id": "ZtcmZWd8FA-O",
        "outputId": "e7b36ffe-5058-45dd-8ac5-1cfb549a99db"
      },
      "execution_count": 4,
      "outputs": [
        {
          "output_type": "stream",
          "name": "stdout",
          "text": [
            "Model1 успешно создан\n"
          ]
        }
      ]
    },
    {
      "cell_type": "code",
      "source": [
        "try:\n",
        "  # В этом экземпляре некорректное vin (маленькое)\n",
        "  second = Car('Model2', 300, 'т001тр')\n",
        "except IncorrectVinNumber as exc:\n",
        "  print(exc.message)\n",
        "except IncorrectCarNumbers as exc:\n",
        "  print(exc.message)\n",
        "else:\n",
        "  print(f'{second.model} успешно создан')"
      ],
      "metadata": {
        "colab": {
          "base_uri": "https://localhost:8080/"
        },
        "id": "OCFEqsNvFP6x",
        "outputId": "5c5398cc-0aa2-4f44-9b6f-b60d339b33e8"
      },
      "execution_count": 5,
      "outputs": [
        {
          "output_type": "stream",
          "name": "stdout",
          "text": [
            "Неверный диапазон для vin номера\n"
          ]
        }
      ]
    },
    {
      "cell_type": "code",
      "source": [
        "try:\n",
        "   # В этом экземпляре некорректное numbers (слишком большое)\n",
        "  third = Car('Model3', 2020202, 'нет номера')\n",
        "except IncorrectVinNumber as exc:\n",
        "  print(exc.message)\n",
        "except IncorrectCarNumbers as exc:\n",
        "  print(exc.message)\n",
        "else:\n",
        "  print(f'{third.model} успешно создан')"
      ],
      "metadata": {
        "colab": {
          "base_uri": "https://localhost:8080/"
        },
        "id": "tBbMlVqnHQRu",
        "outputId": "99ce00fe-1036-4524-98a8-9413b72513b3"
      },
      "execution_count": 6,
      "outputs": [
        {
          "output_type": "stream",
          "name": "stdout",
          "text": [
            "Неверная длина номера\n"
          ]
        }
      ]
    },
    {
      "cell_type": "code",
      "source": [],
      "metadata": {
        "id": "pb4BhGxlHcWJ"
      },
      "execution_count": null,
      "outputs": []
    }
  ]
}